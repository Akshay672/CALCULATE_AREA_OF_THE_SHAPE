{
 "cells": [
  {
   "cell_type": "markdown",
   "metadata": {},
   "source": [
    "### Problem 1:\n",
    "\n",
    "1. Write a program to calculate area of shapes. Your program should be capable of calculating the area of a square, rectangle, triangle and a circle. The user should be presented with options to select the shape. Based on which shape is chosed by the user, the program should ask for the appropriate input and print the resulting area on the screen.\n",
    "\n",
    "When the program is run, the screen should display something like this:\n",
    "\n",
    "**Which shape would you like to calculate the area for? Please enter the option number-**<br>\n",
    "**1. Square**<br>\n",
    "**2. Rectangle**<br>\n",
    "**3. Triangle**<br>\n",
    "**4. Circle**<br>\n",
    "**Enter Option: _**\n",
    "\n",
    "Say the user enters the option 1.\n",
    "\n",
    "**Please enter the length of a side: _**\n",
    "\n",
    "If the user enters a value of 5. The output should be:\n",
    "\n",
    "**The area of the square is 25**\n",
    "\n",
    "This program should indicate that the input is invalid if the user enters a character instead of a number as input. For instance if the user enters a value of ‘a’ instead of 5 in the previous example the program should prompt:\n",
    "\n",
    "**Invalid input, please enter a number: _**\n"
   ]
  },
  {
   "cell_type": "code",
   "execution_count": 1,
   "metadata": {},
   "outputs": [
    {
     "name": "stdout",
     "output_type": "stream",
     "text": [
      "Which shape would you like to calculate the area for\n",
      "Please enter the option number-\n",
      "\n",
      "1. Square\n",
      "2. Rectangle\n",
      "3. Triangle\n",
      "4. Circle\n",
      "\n",
      "(Example: For Square select option 1)\n",
      "\n",
      "2\n",
      "To Find Area of Rectangle:\n",
      "please enter length of the Rectangle: 4\n",
      "please enter Breath of the Rectangle: 5\n",
      "Area of Rectangle is : 20\n"
     ]
    }
   ],
   "source": [
    "def square():\n",
    "    side=int(input('please enter length of the a Square side: '))\n",
    "    Area_Square=side**2\n",
    "    print('Area of Square is :', Area_Square)\n",
    "\n",
    "def circle():\n",
    "    Radius=int(input('please enter Radius of the Circle: '))\n",
    "    Area_Circle=3.14*Radius*Radius\n",
    "    print('Area of Triangle is :', Area_Circle)\n",
    "    \n",
    "def Rectangle(): \n",
    "    lenth=int(input('please enter length of the Rectangle: '))\n",
    "    Breath=int(input('please enter Breath of the Rectangle: '))\n",
    "    Area_Rectangle=lenth*Breath\n",
    "    print('Area of Rectangle is :', Area_Rectangle)\n",
    "\n",
    "def Triangle():\n",
    "    Height=int(input('please enter Height of the Triangle: '))\n",
    "    Base=int(input('please enter Base of the Triangle: '))\n",
    "    Area_Triangle=1/2*Height*Base\n",
    "    print('Area of Triangle is for :', Area_Triangle)\n",
    "\n",
    "def option():\n",
    "    input_option = input('''Which shape would you like to calculate the area for\\nPlease enter the option number-\\n\n",
    "1. Square\n",
    "2. Rectangle\n",
    "3. Triangle\n",
    "4. Circle\\n\\n(Example: For Square select option 1)\\n\\n''')\n",
    "    if input_option.isalpha():\n",
    "        print('Invalid input, please enter a number from the below option: ')\n",
    "        option()\n",
    "    elif input_option =='1':\n",
    "        print('To Find Area of Square:')\n",
    "        square()\n",
    "    elif input_option =='2':\n",
    "        print('To Find Area of Rectangle:')\n",
    "        Rectangle()\n",
    "    elif input_option =='3':\n",
    "        print('To Find Area of Triangle:')\n",
    "        Triangle()\n",
    "    elif input_option =='4':\n",
    "        print('To Find Area of circle:')\n",
    "        circle()\n",
    "    elif input_option.isdigit():\n",
    "        print('Enter a Valid option number: ')\n",
    "        option()\n",
    "option()"
   ]
  }
 ],
 "metadata": {
  "kernelspec": {
   "display_name": "Python 3",
   "language": "python",
   "name": "python3"
  },
  "language_info": {
   "codemirror_mode": {
    "name": "ipython",
    "version": 3
   },
   "file_extension": ".py",
   "mimetype": "text/x-python",
   "name": "python",
   "nbconvert_exporter": "python",
   "pygments_lexer": "ipython3",
   "version": "3.8.5"
  }
 },
 "nbformat": 4,
 "nbformat_minor": 2
}
